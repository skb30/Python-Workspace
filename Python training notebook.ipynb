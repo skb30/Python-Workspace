{
 "cells": [
  {
   "cell_type": "markdown",
   "metadata": {},
   "source": [
    " ### Example of conditional w/ shorthand"
   ]
  },
  {
   "cell_type": "code",
   "execution_count": 7,
   "metadata": {},
   "outputs": [
    {
     "name": "stdout",
     "output_type": "stream",
     "text": [
      "a is greater than b\n",
      "a is less than b\n"
     ]
    }
   ],
   "source": [
    "    a, b = 7,2\n",
    "    if a < b:\n",
    "        print(\"a is less than b.\")\n",
    "    elif a > b:\n",
    "        print(\"a is greater than b\")\n",
    "    else:\n",
    "        print(\"a and b are equal\")\n",
    "\n",
    "\n",
    "    print(\"a is greater than b\") if a < b else print(\"a is less than b\")"
   ]
  },
  {
   "cell_type": "markdown",
   "metadata": {},
   "source": [
    "### Example of enumerator"
   ]
  },
  {
   "cell_type": "code",
   "execution_count": 8,
   "metadata": {},
   "outputs": [
    {
     "name": "stdout",
     "output_type": "stream",
     "text": [
      "index 3 of s\n",
      "index 6 of s\n",
      "index 10 of s\n"
     ]
    }
   ],
   "source": [
    "    s = \"This is a string\"\n",
    "\n",
    "    for i, c in enumerate(s):\n",
    "\n",
    "        if c == 's':\n",
    "            print(\"index {} of {}\".format(i,c))"
   ]
  },
  {
   "cell_type": "markdown",
   "metadata": {},
   "source": [
    "### example of a switch in python"
   ]
  },
  {
   "cell_type": "code",
   "execution_count": 1,
   "metadata": {},
   "outputs": [
    {
     "name": "stdout",
     "output_type": "stream",
     "text": [
      "first\n",
      "other\n"
     ]
    }
   ],
   "source": [
    "    d = dict(\n",
    "        one = 'first',\n",
    "        two = 'second',\n",
    "        three = 'third'\n",
    "    )\n",
    "    # The 'other' parm to get is equvilant to the switch else \n",
    "    v = 'one'\n",
    "    print(d.get(v, \"other\"))\n",
    "    v = 'seven'\n",
    "    print(d.get(v, \"other\"))"
   ]
  },
  {
   "cell_type": "markdown",
   "metadata": {},
   "source": [
    "### for loop w/continue, break and else"
   ]
  },
  {
   "cell_type": "code",
   "execution_count": null,
   "metadata": {
    "collapsed": true
   },
   "outputs": [],
   "source": [
    "    s = 'this is a string'\n",
    "    for c in s:\n",
    "        if c == 's': continue\n",
    "        print(c, end='')\n",
    "    print()\n",
    "    for c in s:\n",
    "        if c == 's': break\n",
    "        print(c, end='')\n",
    "    print()\n",
    "    for c in s:\n",
    "        print(c, end='')\n",
    "    else:\n",
    "        print(\" Else\")"
   ]
  },
  {
   "cell_type": "markdown",
   "metadata": {},
   "source": [
    "### print number in binary"
   ]
  },
  {
   "cell_type": "code",
   "execution_count": null,
   "metadata": {
    "collapsed": true
   },
   "outputs": [],
   "source": [
    "\n",
    "def b(n): print('{:08b}'.format(n))\n",
    "b(5)    "
   ]
  },
  {
   "cell_type": "markdown",
   "metadata": {},
   "source": [
    "### Slicing "
   ]
  },
  {
   "cell_type": "code",
   "execution_count": null,
   "metadata": {
    "collapsed": true
   },
   "outputs": [],
   "source": [
    "    l = []\n",
    "    # initialize the list container with 0 - 100\n",
    "    l[:] = range(100)\n",
    "    # slice it\n",
    "    for n in l[20:40]:\n",
    "        print(\"{} \".format(n), end=\"\")\n",
    "    print()\n",
    "    # slice it with a step over\n",
    "    for n in l[20:40:3]:\n",
    "        print(\"{} \".format(n), end=\"\")\n",
    "\n",
    "    # assigning to the slices\n",
    "    l[20:40:3] = 99,99,99,99,99,99,99\n",
    "    for n in l:\n",
    "        print(\"{} \".format(n), end=\"\")"
   ]
  },
  {
   "cell_type": "markdown",
   "metadata": {},
   "source": [
    "## RegEX"
   ]
  },
  {
   "cell_type": "code",
   "execution_count": 1,
   "metadata": {},
   "outputs": [
    {
     "name": "stdout",
     "output_type": "stream",
     "text": [
      "/Users/scott/Google Drive/Learning Python\n",
      "Lenore\n",
      "Lenore\n",
      "Lenore\n",
      "Lenore\n",
      "Nevermore\n",
      "Nevermore\n",
      "Nevermore\n",
      "Nevermore\n",
      "Lenore\n",
      "Lenore\n",
      "Nevermore\n",
      "Nevermore\n",
      "Lenore\n",
      "Lenore\n",
      "Nevermore\n",
      "Nevermore\n",
      "Example of regular expression w/ subsitution\n",
      "\n",
      "From my books surcease of sorrow - sorrow for the lost ### -\n",
      "For the rare and radiant maiden whom the angels named ### -\n",
      "And the only word there spoken was the whispered word, \"###!\"\n",
      "This I whispered, and an echo murmured back the word, \"###!\"\n",
      "Quoth the raven, \"###.\"\n",
      "With such name as \"###.\"\n",
      "Then the bird said, \"###.\"\n",
      "Meant in croaking \"###.\"\n",
      "Respite - respite and nepenthe from thy memories of ###!\n",
      "Quaff, oh quaff this kind nepenthe, and forget this lost ###!\"\n",
      "Quoth the raven, \"###.\"\n",
      "Quoth the raven, \"###.\"\n",
      "It shall clasp a sainted maiden whom the angels named ### -\n",
      "Clasp a rare and radiant maiden, whom the angels named ###?\"\n",
      "Quoth the raven, \"###.\"\n",
      "Quoth the raven, \"###.\"\n",
      "\n",
      "example of regex with compiled pattern and subsitution\n",
      "\n",
      "From my books surcease of sorrow - sorrow for the lost ### -\n",
      "For the rare and radiant maiden whom the angels named ### -\n",
      "And the only word there spoken was the whispered word, \"###!\"\n",
      "This I whispered, and an echo murmured back the word, \"###!\"\n",
      "Quoth the raven, \"###.\"\n",
      "With such name as \"###.\"\n",
      "Then the bird said, \"###.\"\n",
      "Of 'Never-###.'\"\n",
      "Meant in croaking \"###.\"\n",
      "She shall press, ah, ###!\n",
      "Respite - respite and nepenthe from thy memories of ###!\n",
      "Quaff, oh quaff this kind nepenthe, and forget this lost ###!\"\n",
      "Quoth the raven, \"###.\"\n",
      "Quoth the raven, \"###.\"\n",
      "It shall clasp a sainted maiden whom the angels named ### -\n",
      "Clasp a rare and radiant maiden, whom the angels named ###?\"\n",
      "Quoth the raven, \"###.\"\n",
      "Quoth the raven, \"###.\"\n",
      "Shall be lifted - ###!\n"
     ]
    }
   ],
   "source": [
    "    import re\n",
    "    \n",
    "    import os\n",
    "    cwd = os.getcwd()\n",
    "    print(cwd)\n",
    "    fh = open('/Users/scott/Google Drive/Python Workspace/Ex_Files_Python_3_EssT/Exercise Files/09 Regexes/raven.txt')\n",
    "    for line in fh:\n",
    "        match = re.search('(Len|Neverm)ore', line)\n",
    "        # use the match object to print the match\n",
    "        if match:\n",
    "            print(match.group())\n",
    "\n",
    "\n",
    "    # example of reg sub\n",
    "\n",
    "    print(\"Example of regular expression w/ subsitution\")\n",
    "    print()\n",
    "    fh.close()\n",
    "    fh = open('/Users/scott/Google Drive/Python Workspace/Ex_Files_Python_3_EssT/Exercise Files/09 Regexes/raven.txt')\n",
    "    # for line in fh:\n",
    "    #     print(re.sub('(Len|Neverm)ore',\"###\", line), end='')\n",
    "    \n",
    "    for line in fh:\n",
    "        match = re.search('(Len|Neverm)ore', line)\n",
    "        # use the match object to print the match\n",
    "        if match:\n",
    "            print(re.sub(match.group(), '###', line), end='')\n",
    "    print()        \n",
    "    print ('example of regex with compiled pattern and subsitution') \n",
    "    print()\n",
    "    fh.close()\n",
    "    fh = open('/Users/scott/Google Drive/Python Workspace/Ex_Files_Python_3_EssT/Exercise Files/09 Regexes/raven.txt')\n",
    "    pattern = re.compile('(Len|Neverm)ore', re.IGNORECASE)\n",
    "    \n",
    "    for line in fh:\n",
    "        if re.search(pattern, line):\n",
    "            print(pattern.sub('###', line), end='')"
   ]
  },
  {
   "cell_type": "markdown",
   "metadata": {},
   "source": [
    "## Exception creating and handling"
   ]
  },
  {
   "cell_type": "code",
   "execution_count": 2,
   "metadata": {},
   "outputs": [
    {
     "name": "stdout",
     "output_type": "stream",
     "text": [
      "Cannot read file  [Errno 2] No such file or directory: 'lines.txt'\n"
     ]
    }
   ],
   "source": [
    "\n",
    "def readfile(file):\n",
    "\n",
    "    if file.endswith('.txt'):\n",
    "        fh = open(file)\n",
    "        # create a generator\n",
    "        return fh.readlines()\n",
    "    else:\n",
    "        raise ValueError(\"Filename must end with .txt\")\n",
    "        \n",
    "try:\n",
    "    for line in readfile('lines.txt'):\n",
    "        print(line.strip())\n",
    "except IOError as e:\n",
    "    print('Cannot read file ', e)\n",
    "except ValueError as e:\n",
    "    print('bad file name', e)\n",
    "\n",
    "    #https: //docs.python.org /3/library/exceptions.html"
   ]
  },
  {
   "cell_type": "markdown",
   "metadata": {},
   "source": [
    "## Function with dummy"
   ]
  },
  {
   "cell_type": "code",
   "execution_count": 8,
   "metadata": {},
   "outputs": [
    {
     "name": "stdout",
     "output_type": "stream",
     "text": [
      "This is a test function 42 None 9999\n",
      "This is a test function 22 66 9999\n",
      "This is a test function 1 2 3\n"
     ]
    }
   ],
   "source": [
    "def main():\n",
    "    testfunc(42)\n",
    "    testfunc(22,66)\n",
    "    testfunc(1,2,3)\n",
    "\n",
    "def testfunc(number1, number2 = None, number3 = 9999):\n",
    "    print('This is a test function', number1, number2, number3 )\n",
    "\n",
    "# example of a dummy function\n",
    "def mock(number, name):\n",
    "    # pass is the same as a no-op\n",
    "    pass\n",
    "\n",
    "if __name__ == \"__main__\": main()"
   ]
  },
  {
   "cell_type": "markdown",
   "metadata": {},
   "source": [
    "## Func with arbitrary num of args"
   ]
  },
  {
   "cell_type": "code",
   "execution_count": 4,
   "metadata": {},
   "outputs": [
    {
     "name": "stdout",
     "output_type": "stream",
     "text": [
      "1 2 3\n",
      "4|5|6|Hello|"
     ]
    }
   ],
   "source": [
    "def main():\n",
    "    \n",
    "    # Example of a function that takes arbitrary number of arguments\n",
    "    testfunc(1 ,2, 3, 4, 5, 6, \"Hello\")\n",
    "\n",
    "def testfunc(this, that, other, *args):\n",
    "    print(this, that, other)\n",
    "    for n in args:\n",
    "        print(n, end=\"|\")\n",
    "\n",
    "if __name__ == \"__main__\": main()"
   ]
  },
  {
   "cell_type": "markdown",
   "metadata": {},
   "source": [
    "## Example of func with keyword arguments"
   ]
  },
  {
   "cell_type": "code",
   "execution_count": 5,
   "metadata": {},
   "outputs": [
    {
     "name": "stdout",
     "output_type": "stream",
     "text": [
      "1 2 3 (4, 5, 6)\n",
      "first Scott\n",
      "last Barth\n"
     ]
    }
   ],
   "source": [
    "def main():\n",
    "\n",
    "    # Example of with keyword arguments\n",
    "    testfunc(1 ,2, 3, 4, 5, 6, first = 'Scott', last = 'Barth')\n",
    "\n",
    "def testfunc(this, that, other, *args, **kwargs):\n",
    "    print(this, that, other, args)\n",
    "    for k in kwargs:\n",
    "        print(k, kwargs[k])\n",
    "if __name__ == \"__main__\": main()"
   ]
  },
  {
   "cell_type": "markdown",
   "metadata": {},
   "source": [
    "## Func that returns a range"
   ]
  },
  {
   "cell_type": "code",
   "execution_count": 6,
   "metadata": {},
   "outputs": [
    {
     "name": "stdout",
     "output_type": "stream",
     "text": [
      "0 1 2 3 4 5 6 7 8 9 10 11 12 13 14 15 16 17 18 19 20 21 22 23 24 "
     ]
    }
   ],
   "source": [
    "def main():\n",
    "\n",
    "    # Example func return a range\n",
    "    for i in testfunc():\n",
    "        print(i, end=' ')\n",
    "\n",
    "def testfunc():\n",
    "    return range(25)\n",
    "if __name__ == \"__main__\": main()"
   ]
  },
  {
   "cell_type": "markdown",
   "metadata": {},
   "source": [
    "## Func using yield "
   ]
  },
  {
   "cell_type": "code",
   "execution_count": 7,
   "metadata": {},
   "outputs": [
    {
     "name": "stdout",
     "output_type": "stream",
     "text": [
      "0 5 10 15 20 25 30 35 40 45 50 55 60 65 70 75 80 85 90 95 100 "
     ]
    }
   ],
   "source": [
    "def main():\n",
    "\n",
    "    for i in inclusive_range(0, 100, 5):\n",
    "        print(i, end = ' ')\n",
    "\n",
    "def inclusive_range(*args):\n",
    "    numOfargs = len(args)\n",
    "    if numOfargs < 1: raise TypeError('Need at least one argument')\n",
    "\n",
    "    if numOfargs == 1:\n",
    "        start = 0\n",
    "        stop  = args[0]\n",
    "        step  = 1\n",
    "    elif numOfargs == 2:\n",
    "        start = args[0]\n",
    "        stop  = args[1]\n",
    "        step  = 1\n",
    "    elif numOfargs == 3:\n",
    "        start = args[0]\n",
    "        stop  = args[1]\n",
    "        step  = args[2]\n",
    "    else:\n",
    "        raise TypeError(\"Too many arguemnts, inclusive_range only takes 3 arguments\")\n",
    "\n",
    "\n",
    "    while start <= stop:\n",
    "\n",
    "        # yield is like return but instead of leaving the function\n",
    "        # it continues after returning a value\n",
    "        yield start\n",
    "        start += step\n",
    "\n",
    "if __name__ == \"__main__\": main()"
   ]
  },
  {
   "cell_type": "markdown",
   "metadata": {
    "collapsed": true
   },
   "source": [
    "## Class example of config object"
   ]
  },
  {
   "cell_type": "code",
   "execution_count": 1,
   "metadata": {},
   "outputs": [
    {
     "name": "stdout",
     "output_type": "stream",
     "text": [
      "black\n",
      "red\n",
      "500\n",
      "777\n"
     ]
    }
   ],
   "source": [
    "class Duck:\n",
    "     # example of a class that might be used as getting and setting config params\n",
    "    def __init__(self, **kwargs):\n",
    "        # self._ is used to signify the attribute will be accessed by using only accessor methods\n",
    "\n",
    "        # create a dict attribute\n",
    "        self._variables = kwargs\n",
    "\n",
    "    # set the dict with key/value pair passed as an arg\n",
    "    def set_variables(self, k, v):\n",
    "\n",
    "        self._variables[k] = v\n",
    "\n",
    "    def get_variables(self, k):\n",
    "\n",
    "        return  self._variables[k]\n",
    "\n",
    "    def quack(self):\n",
    "        print('Quaaack!', self._v)\n",
    "\n",
    "    def walk(self):\n",
    "        print('Walks like a duck.', self._v)\n",
    "\n",
    "def main():\n",
    "    frank = Duck(id = 777)\n",
    "    donald = Duck(color = 'black')\n",
    "    print(donald.get_variables('color'))\n",
    "    donald.set_variables('color', 'red')\n",
    "    print(donald.get_variables('color'))\n",
    "    donald.set_variables('id', 500)\n",
    "    print(donald.get_variables('id'))\n",
    "    print(frank.get_variables('id'))\n",
    "\n",
    "\n",
    "\n",
    "if __name__ == \"__main__\": main()"
   ]
  },
  {
   "cell_type": "code",
   "execution_count": null,
   "metadata": {
    "collapsed": true
   },
   "outputs": [],
   "source": []
  }
 ],
 "metadata": {
  "kernelspec": {
   "display_name": "Python 3",
   "language": "python",
   "name": "python3"
  },
  "language_info": {
   "codemirror_mode": {
    "name": "ipython",
    "version": 3
   },
   "file_extension": ".py",
   "mimetype": "text/x-python",
   "name": "python",
   "nbconvert_exporter": "python",
   "pygments_lexer": "ipython3",
   "version": "3.6.1"
  }
 },
 "nbformat": 4,
 "nbformat_minor": 2
}
