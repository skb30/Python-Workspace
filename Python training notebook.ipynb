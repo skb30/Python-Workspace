{
 "cells": [
  {
   "cell_type": "markdown",
   "metadata": {},
   "source": [
    " ### Example of conditional w/ shorthand"
   ]
  },
  {
   "cell_type": "code",
   "execution_count": 7,
   "metadata": {},
   "outputs": [
    {
     "name": "stdout",
     "output_type": "stream",
     "text": [
      "a is greater than b\n",
      "a is less than b\n"
     ]
    }
   ],
   "source": [
    "    a, b = 7,2\n",
    "    if a < b:\n",
    "        print(\"a is less than b.\")\n",
    "    elif a > b:\n",
    "        print(\"a is greater than b\")\n",
    "    else:\n",
    "        print(\"a and b are equal\")\n",
    "\n",
    "\n",
    "    print(\"a is greater than b\") if a < b else print(\"a is less than b\")"
   ]
  },
  {
   "cell_type": "markdown",
   "metadata": {},
   "source": [
    "### Example of enumerator"
   ]
  },
  {
   "cell_type": "code",
   "execution_count": 8,
   "metadata": {},
   "outputs": [
    {
     "name": "stdout",
     "output_type": "stream",
     "text": [
      "index 3 of s\n",
      "index 6 of s\n",
      "index 10 of s\n"
     ]
    }
   ],
   "source": [
    "    s = \"This is a string\"\n",
    "\n",
    "    for i, c in enumerate(s):\n",
    "\n",
    "        if c == 's':\n",
    "            print(\"index {} of {}\".format(i,c))"
   ]
  },
  {
   "cell_type": "markdown",
   "metadata": {},
   "source": [
    "### example of a switch in python"
   ]
  },
  {
   "cell_type": "code",
   "execution_count": 9,
   "metadata": {},
   "outputs": [
    {
     "ename": "SyntaxError",
     "evalue": "invalid syntax (<ipython-input-9-289cfd316a7c>, line 5)",
     "output_type": "error",
     "traceback": [
      "\u001b[0;36m  File \u001b[0;32m\"<ipython-input-9-289cfd316a7c>\"\u001b[0;36m, line \u001b[0;32m5\u001b[0m\n\u001b[0;31m    )hje\u001b[0m\n\u001b[0m       ^\u001b[0m\n\u001b[0;31mSyntaxError\u001b[0m\u001b[0;31m:\u001b[0m invalid syntax\n"
     ]
    }
   ],
   "source": [
    "    d = dict(\n",
    "        one = 'first',\n",
    "        two = 'second',\n",
    "        three = 'third'\n",
    "    )hje\n",
    "    # The 'other' parm to get is equvilant to the switch else \n",
    "    v = 'one'\n",
    "    print(d.get(v, \"other\"))\n",
    "    v = 'seven'\n",
    "    print(d.get(v, \"other\"))"
   ]
  },
  {
   "cell_type": "markdown",
   "metadata": {},
   "source": [
    "### for loop w/continue, break and else"
   ]
  },
  {
   "cell_type": "code",
   "execution_count": null,
   "metadata": {
    "collapsed": true
   },
   "outputs": [],
   "source": [
    "    s = 'this is a string'\n",
    "    for c in s:\n",
    "        if c == 's': continue\n",
    "        print(c, end='')\n",
    "    print()\n",
    "    for c in s:\n",
    "        if c == 's': break\n",
    "        print(c, end='')\n",
    "    print()\n",
    "    for c in s:\n",
    "        print(c, end='')\n",
    "    else:\n",
    "        print(\" Else\")"
   ]
  },
  {
   "cell_type": "markdown",
   "metadata": {},
   "source": [
    "### print number in binary"
   ]
  },
  {
   "cell_type": "code",
   "execution_count": null,
   "metadata": {
    "collapsed": true
   },
   "outputs": [],
   "source": [
    "\n",
    "def b(n): print('{:08b}'.format(n))\n",
    "b(5)    "
   ]
  },
  {
   "cell_type": "markdown",
   "metadata": {},
   "source": [
    "### Slicing "
   ]
  },
  {
   "cell_type": "code",
   "execution_count": null,
   "metadata": {
    "collapsed": true
   },
   "outputs": [],
   "source": [
    "    l = []\n",
    "    # initialize the list container with 0 - 100\n",
    "    l[:] = range(100)\n",
    "    # slice it\n",
    "    for n in l[20:40]:\n",
    "        print(\"{} \".format(n), end=\"\")\n",
    "    print()\n",
    "    # slice it with a step over\n",
    "    for n in l[20:40:3]:\n",
    "        print(\"{} \".format(n), end=\"\")\n",
    "\n",
    "    # assigning to the slices\n",
    "    l[20:40:3] = 99,99,99,99,99,99,99\n",
    "    for n in l:\n",
    "        print(\"{} \".format(n), end=\"\")"
   ]
  },
  {
   "cell_type": "markdown",
   "metadata": {},
   "source": [
    "## RegEX"
   ]
  },
  {
   "cell_type": "code",
   "execution_count": 11,
   "metadata": {},
   "outputs": [
    {
     "name": "stdout",
     "output_type": "stream",
     "text": [
      "Lenore\n",
      "Lenore\n",
      "Lenore\n",
      "Lenore\n",
      "Nevermore\n",
      "Nevermore\n",
      "Nevermore\n",
      "Nevermore\n",
      "Lenore\n",
      "Lenore\n",
      "Nevermore\n",
      "Nevermore\n",
      "Lenore\n",
      "Lenore\n",
      "Nevermore\n",
      "Nevermore\n",
      "Example of regular expression w/ subsitution\n",
      "From my books surcease of sorrow - sorrow for the lost ### -\n",
      "For the rare and radiant maiden whom the angels named ### -\n",
      "And the only word there spoken was the whispered word, \"###!\"\n",
      "This I whispered, and an echo murmured back the word, \"###!\"\n",
      "Quoth the raven, \"###.\"\n",
      "With such name as \"###.\"\n",
      "Then the bird said, \"###.\"\n",
      "Meant in croaking \"###.\"\n",
      "Respite - respite and nepenthe from thy memories of ###!\n",
      "Quaff, oh quaff this kind nepenthe, and forget this lost ###!\"\n",
      "Quoth the raven, \"###.\"\n",
      "Quoth the raven, \"###.\"\n",
      "It shall clasp a sainted maiden whom the angels named ### -\n",
      "Clasp a rare and radiant maiden, whom the angels named ###?\"\n",
      "Quoth the raven, \"###.\"\n",
      "Quoth the raven, \"###.\"\n"
     ]
    }
   ],
   "source": [
    "    import re\n",
    "    fh = open('raven.txt')\n",
    "    for line in fh:\n",
    "        match = re.search('(Len|Neverm)ore', line)\n",
    "        # use the match object to print the match\n",
    "        if match:\n",
    "            print(match.group())\n",
    "\n",
    "\n",
    "    # example of reg sub\n",
    "\n",
    "    print(\"Example of regular expression w/ subsitution\")\n",
    "    fh.close()\n",
    "    fh = open('raven.txt')\n",
    "    # for line in fh:\n",
    "    #     print(re.sub('(Len|Neverm)ore',\"###\", line), end='')\n",
    "    \n",
    "    for line in fh:\n",
    "        match = re.search('(Len|Neverm)ore', line)\n",
    "        # use the match object to print the match\n",
    "        if match:\n",
    "            print(re.sub(match.group(), '###', line), end='')"
   ]
  }
 ],
 "metadata": {
  "kernelspec": {
   "display_name": "Python 3",
   "language": "python",
   "name": "python3"
  },
  "language_info": {
   "codemirror_mode": {
    "name": "ipython",
    "version": 3
   },
   "file_extension": ".py",
   "mimetype": "text/x-python",
   "name": "python",
   "nbconvert_exporter": "python",
   "pygments_lexer": "ipython3",
   "version": "3.6.1"
  }
 },
 "nbformat": 4,
 "nbformat_minor": 2
}
